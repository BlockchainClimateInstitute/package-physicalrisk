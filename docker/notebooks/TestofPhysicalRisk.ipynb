{
 "cells": [
  {
   "cell_type": "markdown",
   "id": "b384004b-cbd8-4e4e-b969-128360b12ff2",
   "metadata": {},
   "source": [
    "# Test of Physical Risk Package"
   ]
  },
  {
   "cell_type": "code",
   "execution_count": 1,
   "id": "2f08a9ae-804d-45c6-bd26-615b8300b68b",
   "metadata": {},
   "outputs": [],
   "source": [
    "import h2o\n",
    "import numpy as np\n",
    "\n",
    "from scipy.interpolate import interp1d\n",
    "invalid = np.array(np.nan)"
   ]
  },
  {
   "cell_type": "code",
   "execution_count": 2,
   "id": "0a8705e8-869d-4a53-acd5-bc8a7cf0935a",
   "metadata": {},
   "outputs": [],
   "source": [
    "from physicalrisk.handler.build_prediction_data import Data_Handler\n",
    "from physicalrisk.handler.printMessageHandler.formatePrint import Formatter\n",
    "from physicalrisk.handler.database import DataQ"
   ]
  },
  {
   "cell_type": "code",
   "execution_count": 3,
   "id": "95a0c942-47b1-4725-9cc3-297461869540",
   "metadata": {},
   "outputs": [],
   "source": [
    "class Building:\n",
    "    def __init__(self, lon, lat, prop_type):\n",
    "#         epc_prop = DataQ(f\"\"\"select * from public.epcsourcedata where \"BUILDING_REFERENCE_NUMBER\" = {building_id} \"\"\").data\n",
    "#         epc_location = DataQ(f\"\"\"select * from public.epcaddresses where \"BUILDING_REFERENCE_NUMBER\" = {building_id} \"\"\").data        \n",
    "#         self.lon_lat = [float(epc_location['PostcodeLongitude'].squeeze()), float(epc_location['PostcodeLatitude'].squeeze())]\n",
    "#         self.prop_type = epc_prop['PROPERTY_TYPE'].squeeze()\n",
    "        self.lon_lat = [lon, lat]\n",
    "        self.prop_type = prop_type\n",
    "    def predict_and_output(self, Longititude_Latitude: list, scenario):\n",
    "\n",
    "        Construct_Features = Data_Handler()\n",
    "        df_to_predict = Construct_Features.build_prediction_data(self.lon_lat, scenario)\n",
    "        self.flood_depth = Construct_Features.flood_depth(self.lon_lat)\n",
    "        \n",
    "        h2o.init(log_level=\"ERRR\")\n",
    "        h2o_auto_model = h2o.import_mojo(\"physicalrisk/GBM_grid__1_AutoML_20210810_210013_model_4.zip\")\n",
    "\n",
    "        Formatter.green(f'Starting H2O_Auto_ML Prediction')\n",
    "\n",
    "        h2odf_to_predict = h2o.H2OFrame(df_to_predict)\n",
    "        result = h2o_auto_model.predict(h2odf_to_predict)\n",
    "        result_df = h2o.as_list(result)\n",
    "        probability = result_df['predict'].iloc[0]\n",
    "        return probability\n",
    "\n",
    "    def flood_depth(self):\n",
    "        Construct_Features = Data_Handler()\n",
    "        flood_depth = Construct_Features.flood_depth(self.lon_lat)\n",
    "        return flood_depth\n",
    "    \n",
    "    def VAR(self,scenario):\n",
    "        #calculate flood damage\n",
    "        flood_damage_type = property_type[property_type['epc_prop_type']==self.prop_type]['prop_group_name'].squeeze()\n",
    "        damage = DataQ(\"select * from physical.vw_flood_damage\").data\n",
    "        damage = damage[damage['prop_use_group_name']==flood_damage_type]\n",
    "        x = damage['flood_depth']\n",
    "        y = damage['flood_damage']\n",
    "        f = interp1d(x, y, kind='quadratic')\n",
    "        flood_damage = float(f(self.flood_depth()))\n",
    "\n",
    "        probability = self.predict_and_output(self.lon_lat,scenario)\n",
    "        VAR = flood_damage*probability\n",
    "        return VAR"
   ]
  },
  {
   "cell_type": "code",
   "execution_count": 4,
   "id": "422aa31a-7850-48d3-8903-64bd9ebee769",
   "metadata": {},
   "outputs": [],
   "source": [
    "building = Building(-0.340042, 51.750045, \"Domestic\")"
   ]
  },
  {
   "cell_type": "code",
   "execution_count": null,
   "id": "be52bfe3-2e32-45ac-a75f-bf01a2497bfa",
   "metadata": {},
   "outputs": [],
   "source": []
  },
  {
   "cell_type": "code",
   "execution_count": null,
   "id": "a11b0198-9edf-4cb2-a161-5b5afed8e08b",
   "metadata": {},
   "outputs": [],
   "source": []
  }
 ],
 "metadata": {
  "kernelspec": {
   "display_name": "Python 3 (ipykernel)",
   "language": "python",
   "name": "python3"
  },
  "language_info": {
   "codemirror_mode": {
    "name": "ipython",
    "version": 3
   },
   "file_extension": ".py",
   "mimetype": "text/x-python",
   "name": "python",
   "nbconvert_exporter": "python",
   "pygments_lexer": "ipython3",
   "version": "3.8.10"
  }
 },
 "nbformat": 4,
 "nbformat_minor": 5
}
